{
 "cells": [
  {
   "cell_type": "code",
   "id": "initial_id",
   "metadata": {
    "collapsed": true,
    "ExecuteTime": {
     "end_time": "2024-06-15T13:54:12.546964Z",
     "start_time": "2024-06-15T13:53:19.090145Z"
    }
   },
   "source": [
    "import getpass\n",
    "import os\n",
    "import myConfig\n",
    "\n",
    "myConfig.set_env()\n",
    "from langchain_openai import ChatOpenAI\n",
    "model = ChatOpenAI(model=\"gpt-3.5-turbo\")\n",
    "\n",
    "from langchain_core.messages import HumanMessage\n",
    "model.invoke([HumanMessage(content=\"Hi! I'm Bob\")])\n",
    "\n",
    "model.invoke([HumanMessage(content=\"what's your name?\")])\n",
    "\n",
    "model.invoke([HumanMessage(content=\"what's my name?\")])\n",
    "\n",
    "from langchain_core.messages import AIMessage\n",
    "\n",
    "model.invoke(\n",
    "    [HumanMessage(content=\"hi i am bob\"),\n",
    "    AIMessage(content=\"hello bob!i am your assistant!\"),\n",
    "    HumanMessage(content=\"what's my name?\")]\n",
    ")\n"
   ],
   "outputs": [
    {
     "data": {
      "text/plain": [
       "AIMessage(content='Your name is Bob.', response_metadata={'token_usage': {'completion_tokens': 5, 'prompt_tokens': 32, 'total_tokens': 37}, 'model_name': 'gpt-3.5-turbo', 'system_fingerprint': None, 'finish_reason': 'stop', 'logprobs': None}, id='run-68915244-a9f6-4313-8bc0-e7fb8cad2b37-0', usage_metadata={'input_tokens': 32, 'output_tokens': 5, 'total_tokens': 37})"
      ]
     },
     "execution_count": 21,
     "metadata": {},
     "output_type": "execute_result"
    }
   ],
   "execution_count": 21
  }
 ],
 "metadata": {
  "kernelspec": {
   "display_name": "Python 3",
   "language": "python",
   "name": "python3"
  },
  "language_info": {
   "codemirror_mode": {
    "name": "ipython",
    "version": 2
   },
   "file_extension": ".py",
   "mimetype": "text/x-python",
   "name": "python",
   "nbconvert_exporter": "python",
   "pygments_lexer": "ipython2",
   "version": "2.7.6"
  }
 },
 "nbformat": 4,
 "nbformat_minor": 5
}
