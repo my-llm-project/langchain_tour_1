{
 "cells": [
  {
   "cell_type": "code",
   "id": "initial_id",
   "metadata": {
    "collapsed": true,
    "ExecuteTime": {
     "end_time": "2024-06-24T02:26:54.669528Z",
     "start_time": "2024-06-24T02:26:46.726557Z"
    }
   },
   "source": [
    "import os\n",
    "import getpass\n",
    "os.environ[\"LANGCHAIN_TRACING_V2\"] = \"true\"\n",
    "os.environ[\"LANGCHAIN_API_KEY\"] = getpass.getpass('LANGCHAIN_API_KEY:')\n",
    "\n",
    "from langchain_openai import ChatOpenAI\n",
    "os.environ[\"OPENAI_API_KEY\"] = getpass.getpass('OPENAI_API_KEY:')\n",
    "# 配置模型地址\n",
    "os.environ[\"OPENAI_API_BASE\"] = getpass.getpass('OPENAI_API_BASE:')\n",
    "# 配置模型版本\n",
    "model = ChatOpenAI(model=\"gpt-3.5-turbo\")"
   ],
   "outputs": [
    {
     "ename": "ValidationError",
     "evalue": "1 validation error for ChatOpenAI\n__root__\n  Did not find openai_api_key, please add an environment variable `OPENAI_API_KEY` which contains it, or pass `openai_api_key` as a named parameter. (type=value_error)",
     "output_type": "error",
     "traceback": [
      "\u001B[0;31m---------------------------------------------------------------------------\u001B[0m",
      "\u001B[0;31mValidationError\u001B[0m                           Traceback (most recent call last)",
      "Cell \u001B[0;32mIn[1], line 11\u001B[0m\n\u001B[1;32m      9\u001B[0m os\u001B[38;5;241m.\u001B[39menviron[\u001B[38;5;124m\"\u001B[39m\u001B[38;5;124mOPENAI_API_BASE\u001B[39m\u001B[38;5;124m\"\u001B[39m] \u001B[38;5;241m=\u001B[39m getpass\u001B[38;5;241m.\u001B[39mgetpass()\n\u001B[1;32m     10\u001B[0m \u001B[38;5;66;03m# 配置模型版本\u001B[39;00m\n\u001B[0;32m---> 11\u001B[0m model \u001B[38;5;241m=\u001B[39m \u001B[43mChatOpenAI\u001B[49m\u001B[43m(\u001B[49m\u001B[43mmodel\u001B[49m\u001B[38;5;241;43m=\u001B[39;49m\u001B[38;5;124;43m\"\u001B[39;49m\u001B[38;5;124;43mgpt-3.5-turbo\u001B[39;49m\u001B[38;5;124;43m\"\u001B[39;49m\u001B[43m)\u001B[49m\n",
      "File \u001B[0;32m~/mine/langchain-project/langchain-tour-1/.venv/lib/python3.8/site-packages/pydantic/v1/main.py:341\u001B[0m, in \u001B[0;36mBaseModel.__init__\u001B[0;34m(__pydantic_self__, **data)\u001B[0m\n\u001B[1;32m    339\u001B[0m values, fields_set, validation_error \u001B[38;5;241m=\u001B[39m validate_model(__pydantic_self__\u001B[38;5;241m.\u001B[39m\u001B[38;5;18m__class__\u001B[39m, data)\n\u001B[1;32m    340\u001B[0m \u001B[38;5;28;01mif\u001B[39;00m validation_error:\n\u001B[0;32m--> 341\u001B[0m     \u001B[38;5;28;01mraise\u001B[39;00m validation_error\n\u001B[1;32m    342\u001B[0m \u001B[38;5;28;01mtry\u001B[39;00m:\n\u001B[1;32m    343\u001B[0m     object_setattr(__pydantic_self__, \u001B[38;5;124m'\u001B[39m\u001B[38;5;124m__dict__\u001B[39m\u001B[38;5;124m'\u001B[39m, values)\n",
      "\u001B[0;31mValidationError\u001B[0m: 1 validation error for ChatOpenAI\n__root__\n  Did not find openai_api_key, please add an environment variable `OPENAI_API_KEY` which contains it, or pass `openai_api_key` as a named parameter. (type=value_error)"
     ]
    }
   ],
   "execution_count": 1
  },
  {
   "metadata": {},
   "cell_type": "code",
   "source": [
    "# 构建提示模板\n",
    "from langchain_core.messages import HumanMessage\n",
    "from langchain_core.prompts import ChatPromptTemplate,MessagesPlaceholder\n",
    "prompt = ChatPromptTemplate.from_messages(\n",
    "    [\n",
    "        (\n",
    "            \"system\",\n",
    "            \"You are a helpful assistant. Answer all questions to the best of your ability.\",\n",
    "        ),\n",
    "        MessagesPlaceholder(variable_name=\"messages\"),\n",
    "    ]\n",
    ") \n",
    "chain = prompt | model\n",
    "response = chain.invoke({\"messages\": [HumanMessage(content=\"hi,i am bob\")]})\n",
    "response.content"
   ],
   "id": "c10cd3cdd9036430",
   "outputs": [],
   "execution_count": null
  },
  {
   "metadata": {},
   "cell_type": "code",
   "source": [
    "# 构建消息历史\n",
    "from langchain_community.chat_message_histories import ChatMessageHistory\n",
    "from langchain_core.chat_history import BaseChatMessageHistory\n",
    "from langchain_core.runnables.history import RunnableWithMessageHistory\n",
    "\n",
    "store = {}\n",
    "\n",
    "def get_session_history(session_id: str) -> BaseChatMessageHistory:\n",
    "    if session_id not in store:\n",
    "        store[session_id] = ChatMessageHistory()\n",
    "    return store[session_id]\n",
    "\n",
    "with_message_history = RunnableWithMessageHistory(model,get_session_history)\n",
    "config = {'configurable': {\"session_id\": \"abc5\"}}\n",
    "response = with_message_history.invoke([HumanMessage(content=\"hi,i am jim\")],config)\n",
    "response.content"
   ],
   "id": "e057d3a43d63c813",
   "outputs": [],
   "execution_count": null
  },
  {
   "metadata": {},
   "cell_type": "code",
   "source": [
    "# 通过config使用历史消息\n",
    "response = with_message_history.invoke([HumanMessage(content=\"what is my name?\")],config)\n",
    "response.content"
   ],
   "id": "f44fab4dd6838142",
   "outputs": [],
   "execution_count": null
  },
  {
   "metadata": {},
   "cell_type": "code",
   "source": [
    "# 构建提示模版，带有变量language\n",
    "prompt = ChatPromptTemplate.from_messages(\n",
    "    [\n",
    "        (\n",
    "            \"system\",\n",
    "            \"You are a helpful assistant. Answer all questions to the best of your ability in {language}.\",\n",
    "        ),\n",
    "        MessagesPlaceholder(variable_name=\"messages\"),\n",
    "    ]\n",
    ")\n",
    "chain = prompt | model"
   ],
   "id": "1d8ad5eae4e70e7c",
   "outputs": [],
   "execution_count": null
  },
  {
   "metadata": {},
   "cell_type": "code",
   "source": [
    "# 按照中文回答问题\n",
    "chain.invoke({\"messages\": [HumanMessage(content=\"hi,i am bob\")],\"language\":\"chinese\"}).content"
   ],
   "id": "1cff0a806e2fdca3",
   "outputs": [],
   "execution_count": null
  },
  {
   "metadata": {},
   "cell_type": "code",
   "source": [
    "# 构建历史消息\n",
    "with_message_history = RunnableWithMessageHistory(chain,get_session_history,input_messages_key=\"messages\")\n",
    "# 创建模版\n",
    "config = {'configurable': {\"session_id\": \"abc11\"}}\n",
    "# 带有历史消息的回答\n",
    "with_message_history.invoke(\n",
    "    {'messages':[HumanMessage(content=\"hi,i am todd\")],\"language\":\"chinese\"}\n",
    "    ,config\n",
    ")\n",
    "response = with_message_history.invoke(\n",
    "    {'messages':[HumanMessage(content=\"what is my name?\")],\"language\":\"chinese\"}\n",
    "    ,config\n",
    ")\n",
    "response.content\n"
   ],
   "id": "2fb4a012cbe93f70",
   "outputs": [],
   "execution_count": null
  }
 ],
 "metadata": {
  "kernelspec": {
   "display_name": "Python 3",
   "language": "python",
   "name": "python3"
  },
  "language_info": {
   "codemirror_mode": {
    "name": "ipython",
    "version": 2
   },
   "file_extension": ".py",
   "mimetype": "text/x-python",
   "name": "python",
   "nbconvert_exporter": "python",
   "pygments_lexer": "ipython2",
   "version": "2.7.6"
  }
 },
 "nbformat": 4,
 "nbformat_minor": 5
}
