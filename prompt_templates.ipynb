{
 "cells": [
  {
   "cell_type": "code",
   "id": "initial_id",
   "metadata": {
    "collapsed": true,
    "ExecuteTime": {
     "end_time": "2024-06-23T09:43:14.503586Z",
     "start_time": "2024-06-23T09:43:14.466801Z"
    }
   },
   "source": [
    "import os\n",
    "import getpass\n",
    "os.environ[\"LANGCHAIN_TRACING_V2\"] = \"true\"\n",
    "os.environ[\"LANGCHAIN_API_KEY\"] = 'sk-8N6IjjnAipJKCSGw0aD0E540E5Bb4e8c86D3727cC7F5EdC3'\n",
    "\n",
    "from langchain_openai import ChatOpenAI\n",
    "os.environ[\"OPENAI_API_KEY\"] = 'sk-rJHGzAs4C0kSriu83125237077814d84Be4aCf56F0F82d7d'\n",
    "# 配置模型地址\n",
    "os.environ[\"OPENAI_API_BASE\"] = \"https://api.gpts.vin/v1\"\n",
    "# 配置模型版本\n",
    "model = ChatOpenAI(model=\"gpt-3.5-turbo\")"
   ],
   "outputs": [],
   "execution_count": 32
  },
  {
   "metadata": {
    "ExecuteTime": {
     "end_time": "2024-06-23T09:43:20.121219Z",
     "start_time": "2024-06-23T09:43:14.504740Z"
    }
   },
   "cell_type": "code",
   "source": [
    "# 构建提示模板\n",
    "from langchain_core.messages import HumanMessage\n",
    "from langchain_core.prompts import ChatPromptTemplate,MessagesPlaceholder\n",
    "prompt = ChatPromptTemplate.from_messages(\n",
    "    [\n",
    "        (\n",
    "            \"system\",\n",
    "            \"You are a helpful assistant. Answer all questions to the best of your ability.\",\n",
    "        ),\n",
    "        MessagesPlaceholder(variable_name=\"messages\"),\n",
    "    ]\n",
    ") \n",
    "chain = prompt | model\n",
    "response = chain.invoke({\"messages\": [HumanMessage(content=\"hi,i am bob\")]})\n",
    "response.content"
   ],
   "id": "c10cd3cdd9036430",
   "outputs": [
    {
     "data": {
      "text/plain": [
       "'Hello Bob! How can I assist you today?'"
      ]
     },
     "execution_count": 33,
     "metadata": {},
     "output_type": "execute_result"
    }
   ],
   "execution_count": 33
  },
  {
   "metadata": {
    "ExecuteTime": {
     "end_time": "2024-06-23T09:43:21.210238Z",
     "start_time": "2024-06-23T09:43:20.122228Z"
    }
   },
   "cell_type": "code",
   "source": [
    "# 构建消息历史\n",
    "from langchain_community.chat_message_histories import ChatMessageHistory\n",
    "from langchain_core.chat_history import BaseChatMessageHistory\n",
    "from langchain_core.runnables.history import RunnableWithMessageHistory\n",
    "\n",
    "store = {}\n",
    "\n",
    "def get_session_history(session_id: str) -> BaseChatMessageHistory:\n",
    "    if session_id not in store:\n",
    "        store[session_id] = ChatMessageHistory()\n",
    "    return store[session_id]\n",
    "\n",
    "with_message_history = RunnableWithMessageHistory(model,get_session_history)\n",
    "config = {'configurable': {\"session_id\": \"abc5\"}}\n",
    "response = with_message_history.invoke([HumanMessage(content=\"hi,i am jim\")],config)\n",
    "response.content"
   ],
   "id": "e057d3a43d63c813",
   "outputs": [
    {
     "name": "stderr",
     "output_type": "stream",
     "text": [
      "Parent run 9dc1be66-4b8f-457f-93fa-a5c912b8f88f not found for run 01a6ede5-3c7c-4485-a796-5b37ae957961. Treating as a root run.\n"
     ]
    },
    {
     "data": {
      "text/plain": [
       "'Hello Jim! How can I assist you today?'"
      ]
     },
     "execution_count": 34,
     "metadata": {},
     "output_type": "execute_result"
    }
   ],
   "execution_count": 34
  },
  {
   "metadata": {
    "ExecuteTime": {
     "end_time": "2024-06-23T09:43:21.973795Z",
     "start_time": "2024-06-23T09:43:21.212206Z"
    }
   },
   "cell_type": "code",
   "source": [
    "# 通过config使用历史消息\n",
    "response = with_message_history.invoke([HumanMessage(content=\"what is my name?\")],config)\n",
    "response.content"
   ],
   "id": "f44fab4dd6838142",
   "outputs": [
    {
     "name": "stderr",
     "output_type": "stream",
     "text": [
      "Parent run c19f69d7-66b8-4a47-ad5c-6a173959feaa not found for run a604721d-de79-456b-89ff-123400e2914d. Treating as a root run.\n"
     ]
    },
    {
     "data": {
      "text/plain": [
       "'Your name is Jim.'"
      ]
     },
     "execution_count": 35,
     "metadata": {},
     "output_type": "execute_result"
    }
   ],
   "execution_count": 35
  },
  {
   "metadata": {
    "ExecuteTime": {
     "end_time": "2024-06-23T09:43:21.980874Z",
     "start_time": "2024-06-23T09:43:21.975859Z"
    }
   },
   "cell_type": "code",
   "source": [
    "# 构建提示模版，带有变量language\n",
    "prompt = ChatPromptTemplate.from_messages(\n",
    "    [\n",
    "        (\n",
    "            \"system\",\n",
    "            \"You are a helpful assistant. Answer all questions to the best of your ability in {language}.\",\n",
    "        ),\n",
    "        MessagesPlaceholder(variable_name=\"messages\"),\n",
    "    ]\n",
    ")\n",
    "chain = prompt | model"
   ],
   "id": "1d8ad5eae4e70e7c",
   "outputs": [],
   "execution_count": 36
  },
  {
   "metadata": {
    "ExecuteTime": {
     "end_time": "2024-06-23T09:43:23.116368Z",
     "start_time": "2024-06-23T09:43:21.982347Z"
    }
   },
   "cell_type": "code",
   "source": [
    "# 按照中文回答问题\n",
    "chain.invoke({\"messages\": [HumanMessage(content=\"hi,i am bob\")],\"language\":\"chinese\"}).content"
   ],
   "id": "1cff0a806e2fdca3",
   "outputs": [
    {
     "data": {
      "text/plain": [
       "'你好，Bob！有什么我可以帮到你的吗？'"
      ]
     },
     "execution_count": 37,
     "metadata": {},
     "output_type": "execute_result"
    }
   ],
   "execution_count": 37
  },
  {
   "metadata": {
    "ExecuteTime": {
     "end_time": "2024-06-23T09:43:25.648902Z",
     "start_time": "2024-06-23T09:43:23.118452Z"
    }
   },
   "cell_type": "code",
   "source": [
    "# 构建历史消息\n",
    "with_message_history = RunnableWithMessageHistory(chain,get_session_history,input_messages_key=\"messages\")\n",
    "# 创建模版\n",
    "config = {'configurable': {\"session_id\": \"abc11\"}}\n",
    "# 带有历史消息的回答\n",
    "with_message_history.invoke(\n",
    "    {'messages':[HumanMessage(content=\"hi,i am todd\")],\"language\":\"chinese\"}\n",
    "    ,config\n",
    ")\n",
    "response = with_message_history.invoke(\n",
    "    {'messages':[HumanMessage(content=\"what is my name?\")],\"language\":\"chinese\"}\n",
    "    ,config\n",
    ")\n",
    "response.content\n"
   ],
   "id": "2fb4a012cbe93f70",
   "outputs": [
    {
     "name": "stderr",
     "output_type": "stream",
     "text": [
      "Parent run 267138fd-d0e8-4c9a-bcd5-0532239a1a9a not found for run 80043ff9-c1b0-4b39-946c-6511252d0167. Treating as a root run.\n",
      "Parent run 4c444da0-ca71-4362-ab73-14bcb6bb8862 not found for run d82b1350-e4e5-4da0-868d-e7901855465b. Treating as a root run.\n"
     ]
    },
    {
     "data": {
      "text/plain": [
       "'你的名字是Todd。'"
      ]
     },
     "execution_count": 38,
     "metadata": {},
     "output_type": "execute_result"
    }
   ],
   "execution_count": 38
  }
 ],
 "metadata": {
  "kernelspec": {
   "display_name": "Python 3",
   "language": "python",
   "name": "python3"
  },
  "language_info": {
   "codemirror_mode": {
    "name": "ipython",
    "version": 2
   },
   "file_extension": ".py",
   "mimetype": "text/x-python",
   "name": "python",
   "nbconvert_exporter": "python",
   "pygments_lexer": "ipython2",
   "version": "2.7.6"
  }
 },
 "nbformat": 4,
 "nbformat_minor": 5
}
